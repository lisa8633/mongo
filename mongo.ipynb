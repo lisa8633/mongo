{
 "cells": [
  {
   "cell_type": "markdown",
   "metadata": {},
   "source": [
    "### Step 1. Download the MOMA dataset \n",
    "\n",
    "`gsutil cp gs://cs327e-open-access/moma.zip .`\n",
    "\n",
    "`unzip moma.zip`"
   ]
  },
  {
   "cell_type": "markdown",
   "metadata": {},
   "source": [
    "### Step 2. Import data into Mongo"
   ]
  },
  {
   "cell_type": "code",
   "execution_count": 2,
   "metadata": {},
   "outputs": [
    {
     "name": "stdout",
     "output_type": "stream",
     "text": [
      "2020-10-06T15:08:59.604+0000\tconnected to: mongodb://localhost/\n",
      "2020-10-06T15:09:00.018+0000\t15233 document(s) imported successfully. 0 document(s) failed to import.\n"
     ]
    }
   ],
   "source": [
    "!mongoimport --db moma --collection Artists < /home/jupyter/moma/Artists.json --jsonArray"
   ]
  },
  {
   "cell_type": "code",
   "execution_count": 3,
   "metadata": {},
   "outputs": [
    {
     "name": "stdout",
     "output_type": "stream",
     "text": [
      "2020-10-06T15:09:35.864+0000\tconnected to: mongodb://localhost/\n",
      "2020-10-06T15:09:38.865+0000\tmoma.Artworks\t37.8MB\n",
      "2020-10-06T15:09:41.865+0000\tmoma.Artworks\t76.1MB\n",
      "2020-10-06T15:09:44.813+0000\tmoma.Artworks\t115MB\n",
      "2020-10-06T15:09:44.813+0000\t138185 document(s) imported successfully. 0 document(s) failed to import.\n"
     ]
    }
   ],
   "source": [
    "!mongoimport --db moma --collection Artworks < /home/jupyter/moma/Artworks.json --jsonArray"
   ]
  },
  {
   "cell_type": "markdown",
   "metadata": {},
   "source": [
    "### Step 3. Run some basic counts"
   ]
  },
  {
   "cell_type": "code",
   "execution_count": 2,
   "metadata": {},
   "outputs": [
    {
     "name": "stdout",
     "output_type": "stream",
     "text": [
      "15233\n"
     ]
    }
   ],
   "source": [
    "!mongo moma --quiet --eval 'db.Artists.count()'"
   ]
  },
  {
   "cell_type": "code",
   "execution_count": 16,
   "metadata": {},
   "outputs": [
    {
     "name": "stdout",
     "output_type": "stream",
     "text": [
      "9782\n"
     ]
    }
   ],
   "source": [
    "!mongo moma --quiet --eval 'db.Artists.count({\"Gender\": \"Male\"})'"
   ]
  },
  {
   "cell_type": "code",
   "execution_count": 17,
   "metadata": {},
   "outputs": [
    {
     "name": "stdout",
     "output_type": "stream",
     "text": [
      "2301\n"
     ]
    }
   ],
   "source": [
    "!mongo moma --quiet --eval 'db.Artists.count({\"Gender\": \"Female\"})'"
   ]
  },
  {
   "cell_type": "code",
   "execution_count": 3,
   "metadata": {},
   "outputs": [
    {
     "name": "stdout",
     "output_type": "stream",
     "text": [
      "138185\n"
     ]
    }
   ],
   "source": [
    "!mongo moma --quiet --eval 'db.Artworks.count()'"
   ]
  },
  {
   "cell_type": "markdown",
   "metadata": {},
   "source": [
    "### Step 4. Run some queries"
   ]
  },
  {
   "cell_type": "code",
   "execution_count": 4,
   "metadata": {},
   "outputs": [
    {
     "name": "stdout",
     "output_type": "stream",
     "text": [
      "{\n",
      "\t\"_id\" : ObjectId(\"5f7c8830c9ecd27a6d4f6106\"),\n",
      "\t\"ConstituentID\" : 4,\n",
      "\t\"DisplayName\" : \"Charles Arnoldi\",\n",
      "\t\"ArtistBio\" : \"American, born 1946\",\n",
      "\t\"Nationality\" : \"American\",\n",
      "\t\"Gender\" : \"Male\",\n",
      "\t\"BeginDate\" : 1946,\n",
      "\t\"EndDate\" : 0,\n",
      "\t\"Wiki QID\" : \"Q1063584\",\n",
      "\t\"ULAN\" : \"500027998\"\n",
      "}\n"
     ]
    }
   ],
   "source": [
    "!mongo moma --quiet --eval 'db.Artists.findOne()'"
   ]
  },
  {
   "cell_type": "code",
   "execution_count": 20,
   "metadata": {},
   "outputs": [
    {
     "name": "stdout",
     "output_type": "stream",
     "text": [
      "{\n",
      "\t\"_id\" : ObjectId(\"5f7c8830c9ecd27a6d4f6106\"),\n",
      "\t\"ConstituentID\" : 4,\n",
      "\t\"DisplayName\" : \"Charles Arnoldi\",\n",
      "\t\"Nationality\" : \"American\"\n",
      "}\n"
     ]
    }
   ],
   "source": [
    "!mongo moma --quiet --eval 'db.Artists.findOne({}, {\"ConstituentID\": 1, \"DisplayName\": 1, \"Nationality\": 1})'"
   ]
  },
  {
   "cell_type": "code",
   "execution_count": 21,
   "metadata": {},
   "outputs": [
    {
     "name": "stdout",
     "output_type": "stream",
     "text": [
      "{\n",
      "\t\"_id\" : ObjectId(\"5f7c8830c9ecd27a6d4f6106\"),\n",
      "\t\"ConstituentID\" : 4,\n",
      "\t\"DisplayName\" : \"Charles Arnoldi\",\n",
      "\t\"ArtistBio\" : \"American, born 1946\",\n",
      "\t\"Nationality\" : \"American\",\n",
      "\t\"Gender\" : \"Male\",\n",
      "\t\"BeginDate\" : 1946,\n",
      "\t\"EndDate\" : 0,\n",
      "\t\"Wiki QID\" : \"Q1063584\",\n",
      "\t\"ULAN\" : \"500027998\"\n",
      "}\n",
      "{\n",
      "\t\"_id\" : ObjectId(\"5f7c8830c9ecd27a6d4f6107\"),\n",
      "\t\"ConstituentID\" : 5,\n",
      "\t\"DisplayName\" : \"Per Arnoldi\",\n",
      "\t\"ArtistBio\" : \"Danish, born 1941\",\n",
      "\t\"Nationality\" : \"Danish\",\n",
      "\t\"Gender\" : \"Male\",\n",
      "\t\"BeginDate\" : 1941,\n",
      "\t\"EndDate\" : 0,\n",
      "\t\"Wiki QID\" : null,\n",
      "\t\"ULAN\" : null\n",
      "}\n",
      "{\n",
      "\t\"_id\" : ObjectId(\"5f7c8830c9ecd27a6d4f6108\"),\n",
      "\t\"ConstituentID\" : 6,\n",
      "\t\"DisplayName\" : \"Danilo Aroldi\",\n",
      "\t\"ArtistBio\" : \"Italian, born 1925\",\n",
      "\t\"Nationality\" : \"Italian\",\n",
      "\t\"Gender\" : \"Male\",\n",
      "\t\"BeginDate\" : 1925,\n",
      "\t\"EndDate\" : 0,\n",
      "\t\"Wiki QID\" : null,\n",
      "\t\"ULAN\" : null\n",
      "}\n"
     ]
    }
   ],
   "source": [
    "!mongo moma --quiet --eval 'db.Artists.find().limit(3).pretty()'"
   ]
  },
  {
   "cell_type": "code",
   "execution_count": 22,
   "metadata": {},
   "outputs": [
    {
     "name": "stdout",
     "output_type": "stream",
     "text": [
      "{\n",
      "\t\"_id\" : ObjectId(\"5f7c8831c9ecd27a6d4f76e5\"),\n",
      "\t\"ConstituentID\" : 6246,\n",
      "\t\"DisplayName\" : \"Andy Warhol\",\n",
      "\t\"ArtistBio\" : \"American, 1928–1987\",\n",
      "\t\"Nationality\" : \"American\",\n",
      "\t\"Gender\" : \"Male\",\n",
      "\t\"BeginDate\" : 1928,\n",
      "\t\"EndDate\" : 1987\n",
      "}\n"
     ]
    }
   ],
   "source": [
    "!mongo moma --quiet --eval 'db.Artists.find({\"DisplayName\":\"Andy Warhol\"}, {\"Wiki QID\": 0, \"ULAN\": 0}).pretty()'"
   ]
  },
  {
   "cell_type": "code",
   "execution_count": 24,
   "metadata": {},
   "outputs": [
    {
     "name": "stdout",
     "output_type": "stream",
     "text": [
      "{\n",
      "\t\"_id\" : ObjectId(\"5f7c88b45896f08152536e31\"),\n",
      "\t\"Title\" : \"Philip's Skull (Cat Scan)\",\n",
      "\t\"Artist\" : [\n",
      "\t\t\"Andy Warhol\"\n",
      "\t],\n",
      "\t\"Date\" : \"c. 1983\",\n",
      "\t\"Classification\" : \"Print\"\n",
      "}\n",
      "{\n",
      "\t\"_id\" : ObjectId(\"5f7c88b35896f081525329d4\"),\n",
      "\t\"Title\" : \"Holly Solomon\",\n",
      "\t\"Artist\" : [\n",
      "\t\t\"Andy Warhol\"\n",
      "\t],\n",
      "\t\"Date\" : \"c. 1965\",\n",
      "\t\"Classification\" : \"Photograph\"\n",
      "}\n",
      "{\n",
      "\t\"_id\" : ObjectId(\"5f7c88b25896f0815252e9f4\"),\n",
      "\t\"Title\" : \"Untitled (Feet)\",\n",
      "\t\"Artist\" : [\n",
      "\t\t\"Andy Warhol\"\n",
      "\t],\n",
      "\t\"Date\" : \"c. 1958\",\n",
      "\t\"Classification\" : \"Drawing\"\n",
      "}\n",
      "{\n",
      "\t\"_id\" : ObjectId(\"5f7c88b55896f08152539f5e\"),\n",
      "\t\"Title\" : \"Untitled from À la recherche du shoe perdu\",\n",
      "\t\"Artist\" : [\n",
      "\t\t\"Andy Warhol\"\n",
      "\t],\n",
      "\t\"Date\" : \"c. 1955\",\n",
      "\t\"Classification\" : \"Print\"\n",
      "}\n",
      "{\n",
      "\t\"_id\" : ObjectId(\"5f7c88b05896f0815252a7ed\"),\n",
      "\t\"Title\" : \"À la recherche du shoe perdu\",\n",
      "\t\"Artist\" : [\n",
      "\t\t\"Andy Warhol\"\n",
      "\t],\n",
      "\t\"Date\" : \"c. 1955\",\n",
      "\t\"Classification\" : \"Print\"\n",
      "}\n"
     ]
    }
   ],
   "source": [
    "!mongo moma --quiet --eval 'db.Artworks.find({\"ConstituentID\": 6246}, {\"Artist\":1, \"Title\":1, \"Classification\":1, \"Date\":1}).sort({\"Date\":-1}).limit(5).pretty()'"
   ]
  },
  {
   "cell_type": "code",
   "execution_count": 25,
   "metadata": {},
   "outputs": [
    {
     "name": "stdout",
     "output_type": "stream",
     "text": [
      "{\n",
      "\t\"_id\" : ObjectId(\"5f7c88b45896f08152536e31\"),\n",
      "\t\"Title\" : \"Philip's Skull (Cat Scan)\",\n",
      "\t\"Date\" : \"c. 1983\",\n",
      "\t\"Classification\" : \"Print\"\n",
      "}\n",
      "{\n",
      "\t\"_id\" : ObjectId(\"5f7c88b55896f08152539f5e\"),\n",
      "\t\"Title\" : \"Untitled from À la recherche du shoe perdu\",\n",
      "\t\"Date\" : \"c. 1955\",\n",
      "\t\"Classification\" : \"Print\"\n",
      "}\n",
      "{\n",
      "\t\"_id\" : ObjectId(\"5f7c88b55896f08152539f60\"),\n",
      "\t\"Title\" : \"Untitled from À la recherche du shoe perdu\",\n",
      "\t\"Date\" : \"c. 1955\",\n",
      "\t\"Classification\" : \"Print\"\n",
      "}\n",
      "{\n",
      "\t\"_id\" : ObjectId(\"5f7c88b55896f08152539f5f\"),\n",
      "\t\"Title\" : \"Untitled from À la recherche du shoe perdu\",\n",
      "\t\"Date\" : \"c. 1955\",\n",
      "\t\"Classification\" : \"Print\"\n",
      "}\n",
      "{\n",
      "\t\"_id\" : ObjectId(\"5f7c88b05896f0815252a7ed\"),\n",
      "\t\"Title\" : \"À la recherche du shoe perdu\",\n",
      "\t\"Date\" : \"c. 1955\",\n",
      "\t\"Classification\" : \"Print\"\n",
      "}\n"
     ]
    }
   ],
   "source": [
    "!mongo moma --quiet --eval 'db.Artworks.find({\"ConstituentID\": 6246, \"Classification\": \"Print\"}, {Title:1, Classification:1, Date:1}).sort({Date:-1}).limit(5).pretty()'"
   ]
  },
  {
   "cell_type": "markdown",
   "metadata": {},
   "source": [
    "### This query has a bug. Can you find it?"
   ]
  },
  {
   "cell_type": "code",
   "execution_count": 28,
   "metadata": {},
   "outputs": [
    {
     "name": "stdout",
     "output_type": "stream",
     "text": [
      "{\n",
      "\t\"_id\" : ObjectId(\"5f7c88b85896f081525482ba\"),\n",
      "\t\"Title\" : \"Algae Geographies carafe\",\n",
      "\t\"Artist\" : [\n",
      "\t\t\"Atelier Luma/ Luma Arles\",\n",
      "\t\t\"Eric Klarenbeek\",\n",
      "\t\t\"Maartje Dros\",\n",
      "\t\t\"Studio Klarenbeek & Dros\"\n",
      "\t],\n",
      "\t\"BeginDate\" : [\n",
      "\t\t2016,\n",
      "\t\t1978,\n",
      "\t\t0,\n",
      "\t\t2014\n",
      "\t],\n",
      "\t\"Classification\" : \"Design\"\n",
      "}\n",
      "{\n",
      "\t\"_id\" : ObjectId(\"5f7c88b85896f081525482b9\"),\n",
      "\t\"Title\" : \"Algae Geographies carafe\",\n",
      "\t\"Artist\" : [\n",
      "\t\t\"Atelier Luma/ Luma Arles\",\n",
      "\t\t\"Eric Klarenbeek\",\n",
      "\t\t\"Maartje Dros\",\n",
      "\t\t\"Studio Klarenbeek & Dros\"\n",
      "\t],\n",
      "\t\"BeginDate\" : [\n",
      "\t\t2016,\n",
      "\t\t1978,\n",
      "\t\t0,\n",
      "\t\t2014\n",
      "\t],\n",
      "\t\"Classification\" : \"Design\"\n",
      "}\n",
      "{\n",
      "\t\"_id\" : ObjectId(\"5f7c88b85896f081525482bc\"),\n",
      "\t\"Title\" : \"Algae Geographies cup\",\n",
      "\t\"Artist\" : [\n",
      "\t\t\"Atelier Luma/ Luma Arles\",\n",
      "\t\t\"Eric Klarenbeek\",\n",
      "\t\t\"Maartje Dros\",\n",
      "\t\t\"Studio Klarenbeek & Dros\"\n",
      "\t],\n",
      "\t\"BeginDate\" : [\n",
      "\t\t2016,\n",
      "\t\t1978,\n",
      "\t\t0,\n",
      "\t\t2014\n",
      "\t],\n",
      "\t\"Classification\" : \"Design\"\n",
      "}\n",
      "{\n",
      "\t\"_id\" : ObjectId(\"5f7c88b85896f081525482bb\"),\n",
      "\t\"Title\" : \"Algae Geographies glass\",\n",
      "\t\"Artist\" : [\n",
      "\t\t\"Atelier Luma/ Luma Arles\",\n",
      "\t\t\"Eric Klarenbeek\",\n",
      "\t\t\"Maartje Dros\",\n",
      "\t\t\"Studio Klarenbeek & Dros\"\n",
      "\t],\n",
      "\t\"BeginDate\" : [\n",
      "\t\t2016,\n",
      "\t\t1978,\n",
      "\t\t0,\n",
      "\t\t2014\n",
      "\t],\n",
      "\t\"Classification\" : \"Design\"\n",
      "}\n",
      "{\n",
      "\t\"_id\" : ObjectId(\"5f7c88b85896f08152547d63\"),\n",
      "\t\"Title\" : \"Algae Geographies glasses and carafes\",\n",
      "\t\"Artist\" : [\n",
      "\t\t\"Atelier Luma/ Luma Arles\",\n",
      "\t\t\"Eric Klarenbeek\",\n",
      "\t\t\"Maartje Dros\",\n",
      "\t\t\"Studio Klarenbeek & Dros\"\n",
      "\t],\n",
      "\t\"BeginDate\" : [\n",
      "\t\t2016,\n",
      "\t\t1978,\n",
      "\t\t0,\n",
      "\t\t2014\n",
      "\t],\n",
      "\t\"Classification\" : \"Design\"\n",
      "}\n"
     ]
    }
   ],
   "source": [
    "!mongo moma --quiet --eval 'db.Artworks.find({BeginDate: {$gte: 1700}, BeginDate: {$lte: 1800}}, {Artist:1, Title:1, Classification:1, BeginDate:1}).sort({BeginDate:-1}).limit(5).pretty()'"
   ]
  },
  {
   "cell_type": "code",
   "execution_count": 29,
   "metadata": {},
   "outputs": [
    {
     "name": "stdout",
     "output_type": "stream",
     "text": [
      "{\n",
      "\t\"_id\" : ObjectId(\"5f7c88b05896f08152526ed8\"),\n",
      "\t\"Title\" : \"Child's Cradle\",\n",
      "\t\"BeginDate\" : [\n",
      "\t\t1867,\n",
      "\t\t1817,\n",
      "\t\t1791\n",
      "\t],\n",
      "\t\"Medium\" : \"Ebonized bentwood\"\n",
      "}\n",
      "{\n",
      "\t\"_id\" : ObjectId(\"5f7c88b25896f08152531306\"),\n",
      "\t\"Title\" : \"The Fruit Sellers\",\n",
      "\t\"BeginDate\" : [\n",
      "\t\t1800,\n",
      "\t\t1802\n",
      "\t],\n",
      "\t\"Medium\" : \"Salted paper print from a calotype\"\n",
      "}\n",
      "{\n",
      "\t\"_id\" : ObjectId(\"5f7c88b25896f08152531316\"),\n",
      "\t\"Title\" : \"Lace\",\n",
      "\t\"BeginDate\" : [\n",
      "\t\t1800\n",
      "\t],\n",
      "\t\"Medium\" : \"Salted paper print (photogram)\"\n",
      "}\n",
      "{\n",
      "\t\"_id\" : ObjectId(\"5f7c88b25896f08152530f19\"),\n",
      "\t\"Title\" : \"Untitled\",\n",
      "\t\"BeginDate\" : [\n",
      "\t\t1800\n",
      "\t],\n",
      "\t\"Medium\" : \"Photoglyphic engraving\"\n",
      "}\n",
      "{\n",
      "\t\"_id\" : ObjectId(\"5f7c88b25896f081525309fa\"),\n",
      "\t\"Title\" : \"Ludlow Castle\",\n",
      "\t\"BeginDate\" : [\n",
      "\t\t1800\n",
      "\t],\n",
      "\t\"Medium\" : \"Albumen silver print from a paper negative\"\n",
      "}\n"
     ]
    }
   ],
   "source": [
    "!mongo moma --quiet --eval 'db.Artworks.find({BeginDate: {$ne: 0, $gte: 1700, $lte: 1800}}, {Title:1, Medium:1, BeginDate:1}).sort({BeginDate:-1}).limit(5).pretty()'"
   ]
  },
  {
   "cell_type": "code",
   "execution_count": 32,
   "metadata": {},
   "outputs": [
    {
     "name": "stdout",
     "output_type": "stream",
     "text": [
      "{\n",
      "\t\"_id\" : ObjectId(\"5f7c88b55896f0815253a92b\"),\n",
      "\t\"Title\" : \"\\\"AlgoRhythms\\\" Columns\",\n",
      "\t\"Artist\" : [\n",
      "\t\t\"Haresh Lalvani\",\n",
      "\t\t\"Bruce Gitlin\",\n",
      "\t\t\"Alex Kveton\",\n",
      "\t\t\"Neil Katz\"\n",
      "\t],\n",
      "\t\"Classification\" : \"Architecture\"\n",
      "}\n",
      "{\n",
      "\t\"_id\" : ObjectId(\"5f7c88b55896f0815253c462\"),\n",
      "\t\"Title\" : \"\\\"Ceci n'est pas l'architecture\\\" Drawing from Buenos Aires Lecture\",\n",
      "\t\"Artist\" : [\n",
      "\t\t\"Le Corbusier (Charles-Édouard Jeanneret)\"\n",
      "\t],\n",
      "\t\"Classification\" : \"Architecture\"\n",
      "}\n",
      "{\n",
      "\t\"_id\" : ObjectId(\"5f7c88b85896f0815254774d\"),\n",
      "\t\"Title\" : \"\\\"Danube Flower\\\" restaurant, Belgrade, Serbia\",\n",
      "\t\"Artist\" : [\n",
      "\t\t\"Valentin Jeck\",\n",
      "\t\t\"Ivan Antić\"\n",
      "\t],\n",
      "\t\"Classification\" : \"Architecture\"\n",
      "}\n"
     ]
    }
   ],
   "source": [
    "!mongo moma --quiet --eval 'db.Artworks.find({$or: [{Classification: \"Sculpture\"}, {Classification: \"Architecture\"}]}, {Artist:1, Classification:1, Title:1}).sort({Title:1}).limit(3).pretty()'"
   ]
  },
  {
   "cell_type": "code",
   "execution_count": 37,
   "metadata": {},
   "outputs": [
    {
     "name": "stdout",
     "output_type": "stream",
     "text": [
      "{\n",
      "\t\"_id\" : ObjectId(\"5f7c88b05896f08152527b59\"),\n",
      "\t\"Title\" : \"48 Jugendstil postcards\",\n",
      "\t\"Artist\" : [\n",
      "\t\t\"Various Artists\"\n",
      "\t],\n",
      "\t\"Classification\" : \"Design\"\n",
      "}\n",
      "{\n",
      "\t\"_id\" : ObjectId(\"5f7c88b05896f0815252879d\"),\n",
      "\t\"Title\" : \"Grafik des Kapitalistischen Realismus (Graphics of Capitalist Realism)\",\n",
      "\t\"Artist\" : [\n",
      "\t\t\"K. P. Brehmer\",\n",
      "\t\t\"K. H. Hödicke\",\n",
      "\t\t\"Konrad Lueg\",\n",
      "\t\t\"Sigmar Polke\",\n",
      "\t\t\"Gerhard Richter\",\n",
      "\t\t\"Wolf Vostell\",\n",
      "\t\t\"Various Artists\"\n",
      "\t],\n",
      "\t\"Classification\" : \"Illustrated Book\"\n",
      "}\n",
      "{\n",
      "\t\"_id\" : ObjectId(\"5f7c88b05896f081525287a2\"),\n",
      "\t\"Title\" : \"Deutsche Graphiker der Gegenwart (German Printmakers of Our Time)\",\n",
      "\t\"Artist\" : [\n",
      "\t\t\"Various Artists\",\n",
      "\t\t\"Ernst Barlach\",\n",
      "\t\t\"Max Beckmann\",\n",
      "\t\t\"René Beeh\",\n",
      "\t\t\"Heinrich Campendonk\",\n",
      "\t\t\"Karl Caspar\",\n",
      "\t\t\"Lovis Corinth\",\n",
      "\t\t\"Lyonel Feininger\",\n",
      "\t\t\"Conrad Felixmüller\",\n",
      "\t\t\"August Gaul\",\n",
      "\t\t\"Rudolf Grossmann\",\n",
      "\t\t\"George Grosz\",\n",
      "\t\t\"Erich Heckel\",\n",
      "\t\t\"Paul Klee\",\n",
      "\t\t\"Käthe Kollwitz\",\n",
      "\t\t\"Alfred Kubin\",\n",
      "\t\t\"Max Liebermann\",\n",
      "\t\t\"Ludwig Meidner\",\n",
      "\t\t\"Otto Mueller\",\n",
      "\t\t\"Max Pechstein\",\n",
      "\t\t\"Adolf Ferdinand Schinnerer\",\n",
      "\t\t\"Karl Schmidt-Rottluff\",\n",
      "\t\t\"Richard Seewald\",\n",
      "\t\t\"Max Unold\"\n",
      "\t],\n",
      "\t\"Classification\" : \"Illustrated Book\"\n",
      "}\n"
     ]
    }
   ],
   "source": [
    "!mongo moma --quiet --eval 'db.Artworks.find({Artist: /Various Artists/}, {Artist:1, Title:1, Classification:1}).limit(3).pretty()'"
   ]
  },
  {
   "cell_type": "code",
   "execution_count": 38,
   "metadata": {},
   "outputs": [
    {
     "name": "stdout",
     "output_type": "stream",
     "text": [
      "{\n",
      "\t\"_id\" : ObjectId(\"5f7c88b05896f08152527acc\"),\n",
      "\t\"Title\" : \"Obrer, Camperol, Milicia! Treball es el teu Diari\",\n",
      "\t\"Artist\" : [\n",
      "\t\t\"unknown\"\n",
      "\t],\n",
      "\t\"Classification\" : \"Design\"\n",
      "}\n",
      "{\n",
      "\t\"_id\" : ObjectId(\"5f7c88b05896f08152527b23\"),\n",
      "\t\"Title\" : \"Homenaje a Madrid\",\n",
      "\t\"Artist\" : [\n",
      "\t\t\"unknown\"\n",
      "\t],\n",
      "\t\"Classification\" : \"Design\"\n",
      "}\n",
      "{\n",
      "\t\"_id\" : ObjectId(\"5f7c88b05896f08152527b59\"),\n",
      "\t\"Title\" : \"48 Jugendstil postcards\",\n",
      "\t\"Artist\" : [\n",
      "\t\t\"Various Artists\"\n",
      "\t],\n",
      "\t\"Classification\" : \"Design\"\n",
      "}\n",
      "{\n",
      "\t\"_id\" : ObjectId(\"5f7c88b05896f0815252879d\"),\n",
      "\t\"Title\" : \"Grafik des Kapitalistischen Realismus (Graphics of Capitalist Realism)\",\n",
      "\t\"Artist\" : [\n",
      "\t\t\"K. P. Brehmer\",\n",
      "\t\t\"K. H. Hödicke\",\n",
      "\t\t\"Konrad Lueg\",\n",
      "\t\t\"Sigmar Polke\",\n",
      "\t\t\"Gerhard Richter\",\n",
      "\t\t\"Wolf Vostell\",\n",
      "\t\t\"Various Artists\"\n",
      "\t],\n",
      "\t\"Classification\" : \"Illustrated Book\"\n",
      "}\n",
      "{\n",
      "\t\"_id\" : ObjectId(\"5f7c88b05896f081525287a2\"),\n",
      "\t\"Title\" : \"Deutsche Graphiker der Gegenwart (German Printmakers of Our Time)\",\n",
      "\t\"Artist\" : [\n",
      "\t\t\"Various Artists\",\n",
      "\t\t\"Ernst Barlach\",\n",
      "\t\t\"Max Beckmann\",\n",
      "\t\t\"René Beeh\",\n",
      "\t\t\"Heinrich Campendonk\",\n",
      "\t\t\"Karl Caspar\",\n",
      "\t\t\"Lovis Corinth\",\n",
      "\t\t\"Lyonel Feininger\",\n",
      "\t\t\"Conrad Felixmüller\",\n",
      "\t\t\"August Gaul\",\n",
      "\t\t\"Rudolf Grossmann\",\n",
      "\t\t\"George Grosz\",\n",
      "\t\t\"Erich Heckel\",\n",
      "\t\t\"Paul Klee\",\n",
      "\t\t\"Käthe Kollwitz\",\n",
      "\t\t\"Alfred Kubin\",\n",
      "\t\t\"Max Liebermann\",\n",
      "\t\t\"Ludwig Meidner\",\n",
      "\t\t\"Otto Mueller\",\n",
      "\t\t\"Max Pechstein\",\n",
      "\t\t\"Adolf Ferdinand Schinnerer\",\n",
      "\t\t\"Karl Schmidt-Rottluff\",\n",
      "\t\t\"Richard Seewald\",\n",
      "\t\t\"Max Unold\"\n",
      "\t],\n",
      "\t\"Classification\" : \"Illustrated Book\"\n",
      "}\n"
     ]
    }
   ],
   "source": [
    "!mongo moma --quiet --eval 'db.Artworks.find({Artist: {$in: [\"Yoko Ono\", /Various Artists/, \"unknown\"]}}, {Artist:1, Title:1, Classification:1}).limit(5).pretty()'"
   ]
  },
  {
   "cell_type": "code",
   "execution_count": 41,
   "metadata": {},
   "outputs": [
    {
     "name": "stdout",
     "output_type": "stream",
     "text": [
      "{\n",
      "\t\"_id\" : ObjectId(\"5f7c88b55896f0815253c1c6\"),\n",
      "\t\"Title\" : \"1969/95 from Museum in Progress\",\n",
      "\t\"Artist\" : [\n",
      "\t\t\"John Lennon\",\n",
      "\t\t\"Yoko Ono\"\n",
      "\t],\n",
      "\t\"Classification\" : \"Print\"\n",
      "}\n",
      "{\n",
      "\t\"_id\" : ObjectId(\"5f7c88b65896f0815253e934\"),\n",
      "\t\"Title\" : \"WAR IS OVER!\",\n",
      "\t\"Artist\" : [\n",
      "\t\t\"Yoko Ono\",\n",
      "\t\t\"John Lennon\"\n",
      "\t],\n",
      "\t\"Classification\" : \"Print\"\n",
      "}\n",
      "{\n",
      "\t\"_id\" : ObjectId(\"5f7c88b65896f0815253e961\"),\n",
      "\t\"Title\" : \"Blue Room Event\",\n",
      "\t\"Artist\" : [\n",
      "\t\t\"Yoko Ono\",\n",
      "\t\t\"John Lennon\"\n",
      "\t],\n",
      "\t\"Classification\" : \"Multiple\"\n",
      "}\n",
      "{\n",
      "\t\"_id\" : ObjectId(\"5f7c88b65896f0815253ea73\"),\n",
      "\t\"Title\" : \"Danger Box, Build around it\",\n",
      "\t\"Artist\" : [\n",
      "\t\t\"John Lennon\",\n",
      "\t\t\"Yoko Ono\"\n",
      "\t],\n",
      "\t\"Classification\" : \"Multiple\"\n",
      "}\n",
      "{\n",
      "\t\"_id\" : ObjectId(\"5f7c88b65896f0815253f780\"),\n",
      "\t\"Title\" : \"WAR IS OVER!\",\n",
      "\t\"Artist\" : [\n",
      "\t\t\"John Lennon\",\n",
      "\t\t\"Yoko Ono\"\n",
      "\t],\n",
      "\t\"Classification\" : \"Print\"\n",
      "}\n"
     ]
    }
   ],
   "source": [
    "!mongo moma --quiet --eval 'db.Artworks.find({Artist: {$all: [\"Yoko Ono\", \"John Lennon\"]}}, {Artist:1, Title:1, Classification:1}).limit(5).pretty()'"
   ]
  },
  {
   "cell_type": "code",
   "execution_count": 42,
   "metadata": {},
   "outputs": [
    {
     "name": "stdout",
     "output_type": "stream",
     "text": [
      "{\n",
      "\t\"_id\" : ObjectId(\"5f7c88af5896f08152526886\"),\n",
      "\t\"Title\" : \"The Manhattan Transcripts Project, New York, New York, Introductory panel to Episode 1: The Park\",\n",
      "\t\"Artist\" : [\n",
      "\t\t\"Bernard Tschumi\"\n",
      "\t],\n",
      "\t\"Classification\" : \"Architecture\"\n",
      "}\n",
      "{\n",
      "\t\"_id\" : ObjectId(\"5f7c88af5896f08152526887\"),\n",
      "\t\"Title\" : \"Villa, project, outside Vienna, Austria, Exterior perspective\",\n",
      "\t\"Artist\" : [\n",
      "\t\t\"Emil Hoppe\"\n",
      "\t],\n",
      "\t\"Classification\" : \"Architecture\"\n",
      "}\n",
      "{\n",
      "\t\"_id\" : ObjectId(\"5f7c88af5896f08152526888\"),\n",
      "\t\"Title\" : \"The Manhattan Transcripts Project, New York, New York, Episode 1: The Park\",\n",
      "\t\"Artist\" : [\n",
      "\t\t\"Bernard Tschumi\"\n",
      "\t],\n",
      "\t\"Classification\" : \"Architecture\"\n",
      "}\n",
      "{\n",
      "\t\"_id\" : ObjectId(\"5f7c88af5896f08152526889\"),\n",
      "\t\"Title\" : \"The Manhattan Transcripts Project, New York, New York, Episode 1: The Park\",\n",
      "\t\"Artist\" : [\n",
      "\t\t\"Bernard Tschumi\"\n",
      "\t],\n",
      "\t\"Classification\" : \"Architecture\"\n",
      "}\n",
      "{\n",
      "\t\"_id\" : ObjectId(\"5f7c88af5896f0815252688a\"),\n",
      "\t\"Title\" : \"The Manhattan Transcripts Project, New York, New York, Episode 1: The Park\",\n",
      "\t\"Artist\" : [\n",
      "\t\t\"Bernard Tschumi\"\n",
      "\t],\n",
      "\t\"Classification\" : \"Architecture\"\n",
      "}\n"
     ]
    }
   ],
   "source": [
    "!mongo moma --quiet --eval 'db.Artworks.find({Artist: {$nin: [\"Yoko Ono\", \"John Lennon\"]}}, {Artist:1, Title:1, Classification:1}).limit(5).pretty()'"
   ]
  },
  {
   "cell_type": "code",
   "execution_count": 47,
   "metadata": {},
   "outputs": [
    {
     "name": "stdout",
     "output_type": "stream",
     "text": [
      "[\n",
      "\tnull,\n",
      "\t\"Afghan\",\n",
      "\t\"Albanian\",\n",
      "\t\"Algerian\",\n",
      "\t\"American\",\n",
      "\t\"Argentine\",\n",
      "\t\"Australian\",\n",
      "\t\"Austrian\",\n",
      "\t\"Azerbaijani\",\n",
      "\t\"Bahamian\",\n",
      "\t\"Bangladeshi\",\n",
      "\t\"Belgian\",\n",
      "\t\"Beninese\",\n",
      "\t\"Bolivian\",\n",
      "\t\"Bosnian\",\n",
      "\t\"Brazilian\",\n",
      "\t\"British\",\n",
      "\t\"Bulgarian\",\n",
      "\t\"Burkinabe\",\n",
      "\t\"Cambodian\",\n",
      "\t\"Cameroonian\",\n",
      "\t\"Canadian\",\n",
      "\t\"Canadian Inuit\",\n",
      "\t\"Catalan\",\n",
      "\t\"Chilean\",\n",
      "\t\"Chinese\",\n",
      "\t\"Colombian\",\n",
      "\t\"Congolese\",\n",
      "\t\"Coptic\",\n",
      "\t\"Costa Rican\",\n",
      "\t\"Croatian\",\n",
      "\t\"Cuban\",\n",
      "\t\"Cypriot\",\n",
      "\t\"Czech\",\n",
      "\t\"Czechoslovakian\",\n",
      "\t\"Danish\",\n",
      "\t\"Dutch\",\n",
      "\t\"Ecuadorian\",\n",
      "\t\"Egyptian\",\n",
      "\t\"Emirati\",\n",
      "\t\"Estonian\",\n",
      "\t\"Ethiopian\",\n",
      "\t\"Filipino\",\n",
      "\t\"Finnish\",\n",
      "\t\"French\",\n",
      "\t\"Georgian\",\n",
      "\t\"German\",\n",
      "\t\"Ghanaian\",\n",
      "\t\"Greek\",\n",
      "\t\"Guatemalan\",\n",
      "\t\"Guyanese\",\n",
      "\t\"Haitian\",\n",
      "\t\"Hungarian\",\n",
      "\t\"Icelandic\",\n",
      "\t\"Indian\",\n",
      "\t\"Iranian\",\n",
      "\t\"Irish\",\n",
      "\t\"Israeli\",\n",
      "\t\"Italian\",\n",
      "\t\"Ivorian\",\n",
      "\t\"Japanese\",\n",
      "\t\"Kenyan\",\n",
      "\t\"Korean\",\n",
      "\t\"Kuwaiti\",\n",
      "\t\"Kyrgyzstani\",\n",
      "\t\"Latvian\",\n",
      "\t\"Lebanese\",\n",
      "\t\"Lithuanian\",\n",
      "\t\"Luxembourgish\",\n",
      "\t\"Macedonian\",\n",
      "\t\"Malaysian\",\n",
      "\t\"Malian\",\n",
      "\t\"Mexican\",\n",
      "\t\"Moroccan\",\n",
      "\t\"Namibian\",\n",
      "\t\"Nationality unknown\",\n",
      "\t\"Native American\",\n",
      "\t\"New Zealander\",\n",
      "\t\"Nicaraguan\",\n",
      "\t\"Nigerian\",\n",
      "\t\"Norwegian\",\n",
      "\t\"Pakistani\",\n",
      "\t\"Palestinian\",\n",
      "\t\"Panamanian\",\n",
      "\t\"Paraguayan\",\n",
      "\t\"Persian\",\n",
      "\t\"Peruvian\",\n",
      "\t\"Polish\",\n",
      "\t\"Portuguese\",\n",
      "\t\"Puerto Rican\",\n",
      "\t\"Romanian\",\n",
      "\t\"Russian\",\n",
      "\t\"Sahrawi\",\n",
      "\t\"Salvadoran\",\n",
      "\t\"Scottish\",\n",
      "\t\"Senegalese\",\n",
      "\t\"Serbian\",\n",
      "\t\"Sierra Leonean\",\n",
      "\t\"Singaporean\",\n",
      "\t\"Slovak\",\n",
      "\t\"Slovenian\",\n",
      "\t\"South African\",\n",
      "\t\"Spanish\",\n",
      "\t\"Sudanese\",\n",
      "\t\"Swedish\",\n",
      "\t\"Swiss\",\n",
      "\t\"Taiwanese\",\n",
      "\t\"Tanzanian\",\n",
      "\t\"Thai\",\n",
      "\t\"Tunisian\",\n",
      "\t\"Turkish\",\n",
      "\t\"Ugandan\",\n",
      "\t\"Ukrainian\",\n",
      "\t\"Uruguayan\",\n",
      "\t\"Venezuelan\",\n",
      "\t\"Vietnamese\",\n",
      "\t\"Welsh\",\n",
      "\t\"Yugoslav\",\n",
      "\t\"Zimbabwean\"\n",
      "]\n"
     ]
    }
   ],
   "source": [
    "!mongo moma --quiet --eval 'db.Artists.distinct(\"Nationality\")'"
   ]
  },
  {
   "cell_type": "markdown",
   "metadata": {},
   "source": [
    "### Step 5. Create, update, and remove a document"
   ]
  },
  {
   "cell_type": "code",
   "execution_count": 52,
   "metadata": {},
   "outputs": [],
   "source": [
    "wilt = '{DisplayName: \"Kami Wilt\", Nationality: \"American\", Gender: \"Female\"}'"
   ]
  },
  {
   "cell_type": "code",
   "execution_count": 53,
   "metadata": {},
   "outputs": [
    {
     "name": "stdout",
     "output_type": "stream",
     "text": [
      "WriteResult({ \"nInserted\" : 1 })\n"
     ]
    }
   ],
   "source": [
    "!mongo moma --quiet --eval 'db.Artists.insert({wilt})'"
   ]
  },
  {
   "cell_type": "code",
   "execution_count": 54,
   "metadata": {},
   "outputs": [
    {
     "name": "stdout",
     "output_type": "stream",
     "text": [
      "{ \"_id\" : ObjectId(\"5f7e0b1bd2b134fb19e7ed45\"), \"DisplayName\" : \"Kami Wilt\", \"Nationality\" : \"American\", \"Gender\" : \"Female\" }\n"
     ]
    }
   ],
   "source": [
    "!mongo moma --quiet --eval 'db.Artists.find({DisplayName: \"Kami Wilt\"})'"
   ]
  },
  {
   "cell_type": "code",
   "execution_count": 62,
   "metadata": {},
   "outputs": [
    {
     "name": "stdout",
     "output_type": "stream",
     "text": [
      "WriteResult({ \"nMatched\" : 1, \"nUpserted\" : 0, \"nModified\" : 1 })\n"
     ]
    }
   ],
   "source": [
    "!mongo moma --quiet --eval 'db.Artists.update({\"_id\": ObjectId(\"5f7e0b1bd2b134fb19e7ed45\")}, {DisplayName: \"Kami Wilt\", Nationality: \"American\", Gender: \"Female\", ConstituentID: 16000})'"
   ]
  },
  {
   "cell_type": "code",
   "execution_count": 63,
   "metadata": {},
   "outputs": [
    {
     "name": "stdout",
     "output_type": "stream",
     "text": [
      "{ \"_id\" : ObjectId(\"5f7e0b1bd2b134fb19e7ed45\"), \"DisplayName\" : \"Kami Wilt\", \"Nationality\" : \"American\", \"Gender\" : \"Female\", \"ConstituentID\" : 16000 }\n"
     ]
    }
   ],
   "source": [
    "!mongo moma --quiet --eval 'db.Artists.find({DisplayName: \"Kami Wilt\"})'"
   ]
  },
  {
   "cell_type": "code",
   "execution_count": 64,
   "metadata": {},
   "outputs": [
    {
     "name": "stdout",
     "output_type": "stream",
     "text": [
      "WriteResult({ \"nRemoved\" : 1 })\n"
     ]
    }
   ],
   "source": [
    "!mongo moma --quiet --eval 'db.Artists.remove({\"_id\": ObjectId(\"5f7e0b1bd2b134fb19e7ed45\")})'"
   ]
  },
  {
   "cell_type": "code",
   "execution_count": 65,
   "metadata": {},
   "outputs": [],
   "source": [
    "!mongo moma --quiet --eval 'db.Artists.find({DisplayName: \"Kami Wilt\"})'"
   ]
  },
  {
   "cell_type": "code",
   "execution_count": null,
   "metadata": {},
   "outputs": [],
   "source": []
  }
 ],
 "metadata": {
  "environment": {
   "name": "common-cpu.m56",
   "type": "gcloud",
   "uri": "gcr.io/deeplearning-platform-release/base-cpu:m56"
  },
  "kernelspec": {
   "display_name": "Python 3",
   "language": "python",
   "name": "python3"
  },
  "language_info": {
   "codemirror_mode": {
    "name": "ipython",
    "version": 3
   },
   "file_extension": ".py",
   "mimetype": "text/x-python",
   "name": "python",
   "nbconvert_exporter": "python",
   "pygments_lexer": "ipython3",
   "version": "3.7.8"
  }
 },
 "nbformat": 4,
 "nbformat_minor": 4
}
