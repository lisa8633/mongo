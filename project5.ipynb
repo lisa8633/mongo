{
 "cells": [
  {
   "cell_type": "markdown",
   "metadata": {},
   "source": [
    "# Project 5: Open Food Facts with MongoDB"
   ]
  },
  {
   "cell_type": "markdown",
   "metadata": {},
   "source": [
    "## Loading data into MongoDB"
   ]
  },
  {
   "cell_type": "markdown",
   "metadata": {},
   "source": [
    "Open a terminal window in JupyterLab and download the dataset from Google Cloud Storage.  \n",
    "Run the following commands to download and extract the dataset:  \n",
    "\n",
    "gsutil cp gs://cs327e-open-access/open_foods.zip .  \n",
    "unzip open_foods.zip  \n",
    "\n",
    "The extracted data contains the mongodb dump file products.bson along with a metadata file products.metadata.json.  In the same terminal, restore the dump file by running the command:  \n",
    "\n",
    "mongorestore -d open_food -c products dump/open_food/products.bson  \n",
    "\n",
    "This command should take 5-10 minutes to run. It creates a database open_food with a products collection inside it.  "
   ]
  },
  {
   "cell_type": "markdown",
   "metadata": {},
   "source": [
    "## Query Translation"
   ]
  },
  {
   "cell_type": "markdown",
   "metadata": {},
   "source": [
    "Translate the following SQL queries to Mongo’s query language. Add each query to its own notebook cell and run them with the mongo shell.\n",
    "\n",
    "Q1:  \n",
    "select count(*)    \n",
    "from products;"
   ]
  },
  {
   "cell_type": "code",
   "execution_count": 4,
   "metadata": {},
   "outputs": [
    {
     "name": "stdout",
     "output_type": "stream",
     "text": [
      "309370\n"
     ]
    }
   ],
   "source": [
    "!mongo open_food --quiet --eval 'db.products.count()'"
   ]
  },
  {
   "cell_type": "markdown",
   "metadata": {},
   "source": [
    "Q2:  \n",
    "select product_name    \n",
    "from products    \n",
    "where categories = 'Snacks, Sweet snacks, Confectioneries, Candies, Chews';"
   ]
  },
  {
   "cell_type": "code",
   "execution_count": 17,
   "metadata": {},
   "outputs": [
    {
     "name": "stdout",
     "output_type": "stream",
     "text": [
      "{ \"_id\" : \"0071720007105\", \"product_name\" : \"Tootsie Roll\" }\n"
     ]
    }
   ],
   "source": [
    "!mongo open_food --quiet --eval 'db.products.find( \\\n",
    "    {\"categories\": \"Snacks, Sweet snacks, Confectioneries, Candies, Chews\"}, \\\n",
    "    {\"product_name\": 1}).pretty()'"
   ]
  },
  {
   "cell_type": "markdown",
   "metadata": {},
   "source": [
    "Q3:  \n",
    "select code, product_name    \n",
    "from products    \n",
    "where last_modified_t >= 1601856000;"
   ]
  },
  {
   "cell_type": "code",
   "execution_count": 22,
   "metadata": {},
   "outputs": [
    {
     "name": "stdout",
     "output_type": "stream",
     "text": [
      "{\n",
      "\t\"_id\" : \"0852909003299\",\n",
      "\t\"product_name\" : \"Almondmilk\",\n",
      "\t\"code\" : \"0852909003299\"\n",
      "}\n",
      "{\n",
      "\t\"_id\" : \"0840423102055\",\n",
      "\t\"code\" : \"0840423102055\",\n",
      "\t\"product_name\" : \"Garlic wine pasta with chicken meatballs with whole wheat rotini, white beans, and greens, cooked in avocado oil, and topped with parmesan and mozzarella, garlic wine pasta with chicken meatballs\"\n",
      "}\n"
     ]
    }
   ],
   "source": [
    "!mongo open_food --quiet --eval 'db.products.find( \\\n",
    "    {\"last_modified_t\": {$gte: 1601856000}}, \\\n",
    "    {\"product_name\": 1, \"code\": 1}).pretty()'"
   ]
  },
  {
   "cell_type": "markdown",
   "metadata": {},
   "source": [
    "Q4.   \n",
    "select count(*)    \n",
    "from products    \n",
    "where packaging = 'Plastic';"
   ]
  },
  {
   "cell_type": "code",
   "execution_count": 25,
   "metadata": {},
   "outputs": [
    {
     "name": "stdout",
     "output_type": "stream",
     "text": [
      "115\n"
     ]
    }
   ],
   "source": [
    "!mongo open_food --quiet --eval 'db.products.count({\"packaging\": \"Plastic\"})'"
   ]
  },
  {
   "cell_type": "markdown",
   "metadata": {},
   "source": [
    "Q5.  \n",
    "select code, creator, product_name, brands    \n",
    "from products    \n",
    "where manufacturing_places = 'Austin, TX'    \n",
    "and stores = 'Whole Foods';"
   ]
  },
  {
   "cell_type": "code",
   "execution_count": 28,
   "metadata": {},
   "outputs": [
    {
     "name": "stdout",
     "output_type": "stream",
     "text": [
      "{\n",
      "\t\"_id\" : \"0099482455859\",\n",
      "\t\"creator\" : \"usda-ndb-import\",\n",
      "\t\"brands\" : \"365 Everyday Value,Whole Foods Market  Inc.\",\n",
      "\t\"code\" : \"0099482455859\",\n",
      "\t\"product_name\" : \"Whole Wheat Bread\"\n",
      "}\n"
     ]
    }
   ],
   "source": [
    "!mongo open_food --quiet --eval 'db.products.find( \\\n",
    "    {\"manufacturing_places\": \"Austin, TX\", \"stores\": \"Whole Foods\"}, \\\n",
    "    {\"code\": 1, \"creator\": 1, \"product_name\": 1, \"brands\": 1}).pretty()'"
   ]
  },
  {
   "cell_type": "markdown",
   "metadata": {},
   "source": [
    "Q6.  \n",
    "select code, creator, product_name, brands    \n",
    "from products    \n",
    "where brands = \"Trader Joe's\" and product_name is not null    \n",
    "order by product_name    \n",
    "limit 7;"
   ]
  },
  {
   "cell_type": "code",
   "execution_count": 46,
   "metadata": {},
   "outputs": [
    {
     "name": "stdout",
     "output_type": "stream",
     "text": [
      "{\n",
      "\t\"_id\" : \"00456838\",\n",
      "\t\"product_name\" : \"\",\n",
      "\t\"brands\" : \"Trader Joe's\",\n",
      "\t\"creator\" : \"tacinte\",\n",
      "\t\"code\" : \"00456838\"\n",
      "}\n",
      "{\n",
      "\t\"_id\" : \"00515306\",\n",
      "\t\"product_name\" : \"\",\n",
      "\t\"creator\" : \"tacinte\",\n",
      "\t\"brands\" : \"Trader Joe's\",\n",
      "\t\"code\" : \"00515306\"\n",
      "}\n",
      "{\n",
      "\t\"_id\" : \"00605649\",\n",
      "\t\"product_name\" : \"\",\n",
      "\t\"code\" : \"00605649\",\n",
      "\t\"brands\" : \"Trader Joe's\",\n",
      "\t\"creator\" : \"bredowmax\"\n",
      "}\n",
      "{\n",
      "\t\"_id\" : \"00930154\",\n",
      "\t\"product_name\" : \"\",\n",
      "\t\"code\" : \"00930154\",\n",
      "\t\"brands\" : \"Trader Joe's\",\n",
      "\t\"creator\" : \"bredowmax\"\n",
      "}\n",
      "{\n",
      "\t\"_id\" : \"00633543\",\n",
      "\t\"code\" : \"00633543\",\n",
      "\t\"brands\" : \"Trader Joe's\",\n",
      "\t\"creator\" : \"bredowmax\",\n",
      "\t\"product_name\" : \"\"\n",
      "}\n",
      "{\n",
      "\t\"_id\" : \"00566346\",\n",
      "\t\"product_name\" : \"\",\n",
      "\t\"code\" : \"00566346\",\n",
      "\t\"creator\" : \"bredowmax\",\n",
      "\t\"brands\" : \"Trader Joe's\"\n",
      "}\n",
      "{\n",
      "\t\"_id\" : \"00430999\",\n",
      "\t\"creator\" : \"bredowmax\",\n",
      "\t\"brands\" : \"Trader Joe's\",\n",
      "\t\"code\" : \"00430999\",\n",
      "\t\"product_name\" : \"\"\n",
      "}\n"
     ]
    }
   ],
   "source": [
    "!mongo open_food --quiet --eval 'db.products.find( \\\n",
    "    {\"brands\": /Trader Joe\\x27s/, \"product_name\": {$ne: null}}, \\\n",
    "    {\"code\": 1, \"creator\": 1, \"product_name\": 1, \"brands\": 1}).\\\n",
    "    sort({\"product_name\":1}).limit(7).pretty()'"
   ]
  },
  {
   "cell_type": "markdown",
   "metadata": {},
   "source": [
    "Q7.  \n",
    "select code, product_name, brands    \n",
    "from products where brands in (\"M&M's\", \"Reese's\", \"Mars  \n",
    "Chocolate,Mars\")    \n",
    "order by product_name    \n",
    "limit 8;"
   ]
  },
  {
   "cell_type": "code",
   "execution_count": 50,
   "metadata": {},
   "outputs": [
    {
     "name": "stdout",
     "output_type": "stream",
     "text": [
      "{\n",
      "\t\"_id\" : \"03444504\",\n",
      "\t\"brands\" : \"Reese's\",\n",
      "\t\"code\" : \"03444504\",\n",
      "\t\"product_name\" : \"Candy In A Crunchy Shell\"\n",
      "}\n",
      "{\n",
      "\t\"_id\" : \"03445202\",\n",
      "\t\"brands\" : \"Reese's\",\n",
      "\t\"code\" : \"03445202\",\n",
      "\t\"product_name\" : \"Candy Pieces In Crunchy Shell\"\n",
      "}\n",
      "{\n",
      "\t\"_id\" : \"0040000294801\",\n",
      "\t\"product_name\" : \"Chocolate candies\",\n",
      "\t\"code\" : \"0040000294801\",\n",
      "\t\"brands\" : \"M&M's\"\n",
      "}\n",
      "{\n",
      "\t\"_id\" : \"0040000294764\",\n",
      "\t\"code\" : \"0040000294764\",\n",
      "\t\"brands\" : \"M&M's\",\n",
      "\t\"product_name\" : \"Chocolate candies, milk chocolate\"\n",
      "}\n",
      "{\n",
      "\t\"_id\" : \"0034000451227\",\n",
      "\t\"product_name\" : \"Clusters\",\n",
      "\t\"code\" : \"0034000451227\",\n",
      "\t\"brands\" : \"Reese's\"\n",
      "}\n",
      "{\n",
      "\t\"_id\" : \"0732346293333\",\n",
      "\t\"product_name\" : \"Cookie Mix\",\n",
      "\t\"brands\" : \"Reese's\",\n",
      "\t\"code\" : \"0732346293333\"\n",
      "}\n",
      "{\n",
      "\t\"_id\" : \"0034000292325\",\n",
      "\t\"brands\" : \"Reese's\",\n",
      "\t\"code\" : \"0034000292325\",\n",
      "\t\"product_name\" : \"Crispy Wafer Bar Sticks, Milk Chocolate, Peanut Butter\"\n",
      "}\n",
      "{\n",
      "\t\"_id\" : \"0034000202003\",\n",
      "\t\"brands\" : \"Reese's\",\n",
      "\t\"code\" : \"0034000202003\",\n",
      "\t\"product_name\" : \"Crispy Wafers\"\n",
      "}\n"
     ]
    }
   ],
   "source": [
    "!mongo open_food --quiet --eval 'db.products.find( \\\n",
    "    {\"brands\": {$in: [/M&M\\x27s/, /Reese\\x27s/, /Mars Chocolate,Mars/]}}, \\\n",
    "    {\"code\": 1, \"product_name\": 1, \"brands\": 1}).\\\n",
    "    sort({\"product_name\":1}).limit(8).pretty()'"
   ]
  },
  {
   "cell_type": "markdown",
   "metadata": {},
   "source": [
    "## Document Insert, Update, and Deletion"
   ]
  },
  {
   "cell_type": "markdown",
   "metadata": {},
   "source": [
    "Insert a new document into the products collection. The document must have at least 5 fields."
   ]
  },
  {
   "cell_type": "code",
   "execution_count": 79,
   "metadata": {},
   "outputs": [
    {
     "name": "stdout",
     "output_type": "stream",
     "text": [
      "WriteResult({ \"nInserted\" : 1 })\n"
     ]
    }
   ],
   "source": [
    "unique = '{creator: \"Doug Dimmadome\", code: \"20011617228310\", product_name: \"Dimmesdale Dimmadome\", brands: \"Dimmadome\", stores:\"Wall2WallMart\"}'\n",
    "!mongo open_food --quiet --eval 'db.products.insert({unique})'"
   ]
  },
  {
   "cell_type": "markdown",
   "metadata": {},
   "source": [
    "Read back the document you just created."
   ]
  },
  {
   "cell_type": "code",
   "execution_count": 80,
   "metadata": {},
   "outputs": [
    {
     "name": "stdout",
     "output_type": "stream",
     "text": [
      "{\n",
      "\t\"_id\" : ObjectId(\"5f85e2c6a1d2fd0627594860\"),\n",
      "\t\"creator\" : \"Doug Dimmadome\",\n",
      "\t\"code\" : \"20011617228310\",\n",
      "\t\"product_name\" : \"Dimmesdale Dimmadome\",\n",
      "\t\"brands\" : \"Dimmadome\",\n",
      "\t\"stores\" : \"Wall2WallMart\"\n",
      "}\n"
     ]
    }
   ],
   "source": [
    "!mongo open_food --quiet --eval 'db.products.find({creator:\"Doug Dimmadome\"}).pretty()'"
   ]
  },
  {
   "cell_type": "markdown",
   "metadata": {},
   "source": [
    "Update the document you created and then read it back."
   ]
  },
  {
   "cell_type": "code",
   "execution_count": 81,
   "metadata": {},
   "outputs": [
    {
     "name": "stdout",
     "output_type": "stream",
     "text": [
      "WriteResult({ \"nMatched\" : 1, \"nUpserted\" : 0, \"nModified\" : 1 })\n",
      "{\n",
      "\t\"_id\" : ObjectId(\"5f85e2c6a1d2fd0627594860\"),\n",
      "\t\"creator\" : \"Doug Dimmadome\",\n",
      "\t\"code\" : \"20011617228310\",\n",
      "\t\"product_name\" : \"Doug Dimmadomes Dimmesdale Dimmadome\",\n",
      "\t\"brands\" : \"Dimmadome\",\n",
      "\t\"stores\" : \"Wall2WallMart\"\n",
      "}\n"
     ]
    }
   ],
   "source": [
    "!mongo open_food --quiet --eval 'db.products.update({\"creator\": \"Doug Dimmadome\"}, \\\n",
    "    {creator: \"Doug Dimmadome\", code: \"20011617228310\", product_name: \"Doug Dimmadomes Dimmesdale Dimmadome\", brands: \"Dimmadome\", stores:\"Wall2WallMart\"})'\n",
    "!mongo open_food --quiet --eval 'db.products.find({creator:\"Doug Dimmadome\"}).pretty()'"
   ]
  },
  {
   "cell_type": "markdown",
   "metadata": {},
   "source": [
    "Delete the document from the collection."
   ]
  },
  {
   "cell_type": "code",
   "execution_count": 82,
   "metadata": {},
   "outputs": [
    {
     "name": "stdout",
     "output_type": "stream",
     "text": [
      "WriteResult({ \"nRemoved\" : 1 })\n"
     ]
    }
   ],
   "source": [
    "!mongo open_food --quiet --eval 'db.products.remove({\"creator\": \"Doug Dimmadome\"})'\n",
    "!mongo open_food --quiet --eval 'db.products.find({creator:\"Doug Dimmadome\"})'"
   ]
  }
 ],
 "metadata": {
  "environment": {
   "name": "common-cpu.m55",
   "type": "gcloud",
   "uri": "gcr.io/deeplearning-platform-release/base-cpu:m55"
  },
  "kernelspec": {
   "display_name": "Python 3",
   "language": "python",
   "name": "python3"
  },
  "language_info": {
   "codemirror_mode": {
    "name": "ipython",
    "version": 3
   },
   "file_extension": ".py",
   "mimetype": "text/x-python",
   "name": "python",
   "nbconvert_exporter": "python",
   "pygments_lexer": "ipython3",
   "version": "3.7.8"
  }
 },
 "nbformat": 4,
 "nbformat_minor": 4
}
